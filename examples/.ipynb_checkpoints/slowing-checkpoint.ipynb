{
 "cells": [
  {
   "cell_type": "code",
   "execution_count": 54,
   "metadata": {},
   "outputs": [
    {
     "name": "stderr",
     "output_type": "stream",
     "text": [
      "┌ Info: Precompiling BenchmarkTools [6e4b80f9-dd63-53aa-95a3-0cdb28fa8baf]\n",
      "└ @ Base loading.jl:1278\n"
     ]
    }
   ],
   "source": [
    "using LoopVectorization, StaticArrays, BenchmarkTools"
   ]
  },
  {
   "cell_type": "code",
   "execution_count": 2,
   "metadata": {},
   "outputs": [],
   "source": [
    "using Revise, BeamPropagation, Distributions, StatsBase, StaticArrays, PhysicalConstants.CODATA2018, Plots, BenchmarkTools"
   ]
  },
  {
   "cell_type": "code",
   "execution_count": 197,
   "metadata": {},
   "outputs": [
    {
     "ename": "LoadError",
     "evalue": "LoadError: Don't know how to handle expression.\nif 1 > 0\n    #= In[197]:4 =#\n    c[i] = add_fast(sqrt(sum(sub_fast(a[i], b[i]) .^ 2)), c[i])\nend\nin expression starting at In[197]:2",
     "output_type": "error",
     "traceback": [
      "LoadError: Don't know how to handle expression.\nif 1 > 0\n    #= In[197]:4 =#\n    c[i] = add_fast(sqrt(sum(sub_fast(a[i], b[i]) .^ 2)), c[i])\nend\nin expression starting at In[197]:2",
      "",
      "Stacktrace:",
      " [1] push!(::LoopVectorization.LoopSet, ::Expr, ::Int64, ::Int64) at C:\\Users\\Christian\\.julia\\packages\\LoopVectorization\\NFLRQ\\src\\modeling\\graphs.jl:1188",
      " [2] add_block!(::LoopVectorization.LoopSet, ::Expr, ::Int64, ::Int64) at C:\\Users\\Christian\\.julia\\packages\\LoopVectorization\\NFLRQ\\src\\modeling\\graphs.jl:755",
      " [3] add_loop!(::LoopVectorization.LoopSet, ::Expr, ::Int64) at C:\\Users\\Christian\\.julia\\packages\\LoopVectorization\\NFLRQ\\src\\modeling\\graphs.jl:958",
      " [4] copyto! at C:\\Users\\Christian\\.julia\\packages\\LoopVectorization\\NFLRQ\\src\\constructors.jl:15 [inlined]",
      " [5] LoopVectorization.LoopSet(::Expr, ::Symbol) at C:\\Users\\Christian\\.julia\\packages\\LoopVectorization\\NFLRQ\\src\\constructors.jl:66",
      " [6] LoopVectorization.LoopSet(::Expr, ::Module) at C:\\Users\\Christian\\.julia\\packages\\LoopVectorization\\NFLRQ\\src\\constructors.jl:70",
      " [7] turbo_macro(::Module, ::LineNumberNode, ::Expr) at C:\\Users\\Christian\\.julia\\packages\\LoopVectorization\\NFLRQ\\src\\constructors.jl:118",
      " [8] @turbo(::LineNumberNode, ::Module, ::Vararg{Any,N} where N) at C:\\Users\\Christian\\.julia\\packages\\LoopVectorization\\NFLRQ\\src\\constructors.jl:214",
      " [9] include_string(::Function, ::Module, ::String, ::String) at .\\loading.jl:1091",
      " [10] execute_code(::String, ::String) at C:\\Users\\Christian\\.julia\\packages\\IJulia\\rWZ9e\\src\\execute_request.jl:27",
      " [11] execute_request(::ZMQ.Socket, ::IJulia.Msg) at C:\\Users\\Christian\\.julia\\packages\\IJulia\\rWZ9e\\src\\execute_request.jl:86",
      " [12] #invokelatest#1 at .\\essentials.jl:710 [inlined]",
      " [13] invokelatest at .\\essentials.jl:709 [inlined]",
      " [14] eventloop(::ZMQ.Socket) at C:\\Users\\Christian\\.julia\\packages\\IJulia\\rWZ9e\\src\\eventloop.jl:8",
      " [15] (::IJulia.var\"#15#18\")() at .\\task.jl:356"
     ]
    }
   ],
   "source": [
    "function avx_test(a, b, c)\n",
    "    @turbo for i in 1:size(a,1)\n",
    "        c[i] += sqrt(sum((a[i] - b[i]).^2))\n",
    "    end\n",
    "    return nothing\n",
    "end"
   ]
  },
  {
   "cell_type": "code",
   "execution_count": 196,
   "metadata": {},
   "outputs": [],
   "source": [
    "n = 100\n",
    "a = Array{SVector{3, Float64}}(undef, n)\n",
    "b = deepcopy(a)\n",
    "c = rand(Float64, n)\n",
    ";"
   ]
  },
  {
   "cell_type": "code",
   "execution_count": 194,
   "metadata": {},
   "outputs": [
    {
     "name": "stdout",
     "output_type": "stream",
     "text": [
      "  217.829 ns (0 allocations: 0 bytes)\n"
     ]
    }
   ],
   "source": [
    "@btime avx_test($a, $b, $c)"
   ]
  },
  {
   "cell_type": "code",
   "execution_count": 3,
   "metadata": {},
   "outputs": [],
   "source": [
    "const h = PlanckConstant.val\n",
    "const ħ = h / 2π\n",
    "const λ = @with_unit 626 \"nm\"\n",
    "const k = 2π / λ\n",
    "const m = @with_unit 57 \"u\"\n",
    "const Δv = ħ * k / m\n",
    ";"
   ]
  },
  {
   "cell_type": "code",
   "execution_count": 4,
   "metadata": {},
   "outputs": [],
   "source": [
    "vz_μ = @with_unit 125 \"m/s\"\n",
    "vz_σ = @with_unit 25 \"m/s\"\n",
    "vxy_μ = @with_unit 0 \"m/s\"\n",
    "vxy_σ = @with_unit 25 \"m/s\"\n",
    "exit_radius = @with_unit 4 \"mm\"\n",
    ";"
   ]
  },
  {
   "cell_type": "code",
   "execution_count": 5,
   "metadata": {},
   "outputs": [],
   "source": [
    "const r = (\n",
    "    Normal(0, exit_radius/2), \n",
    "    Normal(0, exit_radius/2), \n",
    "    Normal(0, 0)\n",
    ")\n",
    "const v = (\n",
    "    Normal(vxy_μ, vxy_σ), \n",
    "    Normal(vxy_μ, vxy_σ), \n",
    "    Normal(vz_μ, vz_σ)\n",
    ")\n",
    "const a = (\n",
    "    Normal(0, 0),\n",
    "    Normal(0, 0), \n",
    "    Normal(0, 0)\n",
    ")\n",
    ";"
   ]
  },
  {
   "cell_type": "code",
   "execution_count": 6,
   "metadata": {},
   "outputs": [],
   "source": [
    "VBRs = Weights([\n",
    "    0.9457,     # to 000\n",
    "    0.0447,     # 100\n",
    "    3.9e-3,     # 0200\n",
    "    2.7e-3,     # 200\n",
    "    9.9e-4,     # 0220\n",
    "    7.5e-4,     # 0110\n",
    "    3.8e-4,     # 0110, N=2\n",
    "    3.9e-4,     # 1200\n",
    "    1.5e-4,     # 300\n",
    "    1.3e-4,     # 1220\n",
    "    0.7e-4,     # 110 (only N=1, assuming roughly 2/3 to 1/3 rotational branching)\n",
    "    0.4e-4,     # 110, N=2\n",
    "    5.7e-5,     # 220\n",
    "    4.3e-5      # other states\n",
    "])\n",
    "\n",
    "longitudinal = [\n",
    "    true,   # to 000\n",
    "    true,   # 100\n",
    "    true,   # 0200\n",
    "    true,   # 200\n",
    "    true,   # 0220\n",
    "    true,   # 0110\n",
    "    true,   # 0110, N=2\n",
    "    true,   # 1200\n",
    "    true,   # 300\n",
    "    false,   # 1220\n",
    "    false,   # 110\n",
    "    false,  # 110, N=2\n",
    "    false,  # 220\n",
    "    false   # other states\n",
    "]\n",
    "\n",
    "transverse = [\n",
    "    false,  # to 000\n",
    "    false,   # 100\n",
    "    false,  # 0200\n",
    "    false,  # 200\n",
    "    false,  # 0220\n",
    "    false,  # 0110\n",
    "    false,  # 0110, N=2\n",
    "    false,  # 1200\n",
    "    false,   # 300\n",
    "    true,   # 1220\n",
    "    true,   # 110\n",
    "    false,  # 110, N=2\n",
    "    false,  # 220\n",
    "    false   # other states\n",
    "]\n",
    "\n",
    "λs = 1e-9 .* [\n",
    "    626,\n",
    "    574,\n",
    "    629,\n",
    "    650,\n",
    "    630,\n",
    "    567,\n",
    "    623,\n",
    "    653,\n",
    "    595,\n",
    "    646,\n",
    "    566,\n",
    "    600,\n",
    "    600,\n",
    "    600\n",
    "]\n",
    "\n",
    ";"
   ]
  },
  {
   "cell_type": "code",
   "execution_count": 7,
   "metadata": {},
   "outputs": [],
   "source": [
    "struct Sideband\n",
    "    lower::Float64\n",
    "    upper::Float64\n",
    "end\n",
    "\n",
    "std_sideband = Sideband(0, 250)\n",
    "sidebands = repeat([std_sideband], length(VBRs))\n",
    ";"
   ]
  },
  {
   "cell_type": "code",
   "execution_count": 8,
   "metadata": {},
   "outputs": [],
   "source": [
    "@inline function transverse_on(z)\n",
    "    if 0.15 < z < 0.20\n",
    "        return true\n",
    "    elseif 0.45 < z < 0.50\n",
    "        return true\n",
    "    elseif 0.56 < z < 0.61\n",
    "        return true\n",
    "    end\n",
    "    return false\n",
    "end\n",
    "\n",
    "@inline function random_unit3Dvector()\n",
    "    θ = rand(Uniform(0, 2π))\n",
    "    z = rand(Uniform(-1, 1))\n",
    "    return @SVector [sqrt(1-z^2)*cos(θ), sqrt(1-z^2)*sin(θ), z]\n",
    "end\n",
    ";"
   ]
  },
  {
   "cell_type": "code",
   "execution_count": 9,
   "metadata": {},
   "outputs": [],
   "source": [
    "const detect_rad  = @with_unit 0.5 \"cm\"\n",
    "const detect_zloc = @with_unit 71 \"cm\"\n",
    "const detect_zlen = @with_unit 0.5 \"cm\"\n",
    "const dead_rad = @with_unit 1.0 \"cm\"\n",
    "const dead_len = detect_zloc + detect_zlen\n",
    ";"
   ]
  },
  {
   "cell_type": "code",
   "execution_count": 10,
   "metadata": {},
   "outputs": [],
   "source": [
    "@inline function simple_prop(r, v)\n",
    "    dist_detect = detect_zloc - r[3]\n",
    "    x_final = r[1] + v[1] * dist_detect / v[3]\n",
    "    y_final = r[2] + v[2] * dist_detect / v[3]\n",
    "    return sqrt(x_final^2 + y_final^2)\n",
    "end\n",
    "\n",
    "@inline discard(r, v) = (simple_prop(r, v) > dead_rad) || (r[3] > dead_len)\n",
    "@inline is_detectable(r) = sqrt(r[1]^2 + r[2]^2) < detect_rad && (detect_zloc + detect_zlen > r[3] > detect_zloc)\n",
    ";"
   ]
  },
  {
   "cell_type": "code",
   "execution_count": 11,
   "metadata": {},
   "outputs": [],
   "source": [
    "Γ = 2π * 6.4e6\n",
    "Ng = 12\n",
    "Ne = 4\n",
    "s_ = 0.405\n",
    "Γeff = Γ * 2Ne / (Ng + Ne)\n",
    "seff = (s_/2) * (Ng + Ne) / 2Ng\n",
    "Δv_to_Δf(Δv, λ) = (Δv / λ)\n",
    "Δf_to_Δv(Δf, λ) = (λ * Δf)\n",
    "sideband_spacing = @with_unit 4.5 \"MHz\"\n",
    "\n",
    "@inline function Rsc(λ, Γ, s, v, sideband_spacing, sideband)\n",
    "    R = 0\n",
    "    sideband_spacing_v = Δf_to_Δv(sideband_spacing, λ)\n",
    "    spectrum = sideband.lower:sideband_spacing_v:sideband.upper # This is in terms of velocity\n",
    "    s /= length(spectrum)\n",
    "    for v_s in spectrum\n",
    "        Δ = Δv_to_Δf(v_s - v, λ)\n",
    "        R += (s/2) * Γ / (1 + 4(Δ/Γ)^2 + s)\n",
    "    end\n",
    "    return R\n",
    "end\n",
    "\n",
    "vs = 0:1:300\n",
    "Rscs = zeros(Float64, length(vs), length(VBRs))\n",
    "for (i,v) in enumerate(vs)\n",
    "    for state in 1:size(VBRs,1)\n",
    "        Rscs[i, state] = Rsc(λs[state], Γ, s_, v, sideband_spacing, sidebands[state])\n",
    "    end\n",
    "end\n",
    "\n",
    "@inline function interpolate_Rsc(Rscs, vz, state)\n",
    "    if vz < 0\n",
    "        return 0.0\n",
    "    end\n",
    "    v_idx = round(Int64, vz) + 1\n",
    "    Rsc = Rscs[v_idx, state]\n",
    "    return Rsc\n",
    "end\n",
    ";"
   ]
  },
  {
   "cell_type": "code",
   "execution_count": 12,
   "metadata": {},
   "outputs": [],
   "source": [
    "# @inline function save(i, r, v, a, state, s)\n",
    "#     s.vzs[i] = v[3]\n",
    "#     s.detectable[i] = simple_prop(r, v) < detect_rad\n",
    "#     return nothing\n",
    "# end\n",
    "\n",
    "# @inline function f(i, r, v, a, state, dt, p, s)\n",
    "#     state′ = state\n",
    "#     v′ = v\n",
    "#     s.detectable[i] |= is_detectable(r)\n",
    "    \n",
    "#     if p.longitudinal[state] || (p.transverse[state] && transverse_on(r[3])) \n",
    "#         p_scatter = min(1, interpolate_Rsc(p.Rscs, v[3], state) / p.scattering_rate)\n",
    "#         if rand() < p_scatter\n",
    "#             state′ = sample(1:14, p.VBRs)\n",
    "#             v′ = @SVector [v[1], v[2], v[3] - Δv]\n",
    "#             v′ += Δv .* random_unit3Dvector()\n",
    "#             s.photons[i] += 1\n",
    "#         end\n",
    "#     end\n",
    "    \n",
    "#     s.vzs[i] = v′[3]\n",
    "#     s.states[i] = state′\n",
    "#     return (state′, v′, a)\n",
    "# end\n",
    ";"
   ]
  },
  {
   "cell_type": "code",
   "execution_count": 54,
   "metadata": {},
   "outputs": [],
   "source": [
    "@inline function f(particle, dt, p, s)\n",
    "    return (particle.v, particle.a)\n",
    "end\n",
    "\n",
    "@inline function save(particles, p, s)\n",
    "    for i in 1:size(particles, 1)\n",
    "        s.zs[particles[i].idx] = particles[i].r[3]\n",
    "    end\n",
    "    return nothing\n",
    "end\n",
    ";"
   ]
  },
  {
   "cell_type": "code",
   "execution_count": 70,
   "metadata": {},
   "outputs": [],
   "source": [
    "n = Int64(1e3)\n",
    "scattering_rate = @with_unit 1.2 \"MHz\"\n",
    "delete_every    = 15\n",
    "dt              = 1 / scattering_rate\n",
    "max_steps       = Int64(3.5e4)\n",
    ";"
   ]
  },
  {
   "cell_type": "code",
   "execution_count": 71,
   "metadata": {},
   "outputs": [],
   "source": [
    "vzs           = zeros(Float64, n)\n",
    "photons       = zeros(Int64, n)\n",
    "detectable    = zeros(Bool, n)\n",
    "states        = ones(Int64, n)\n",
    "\n",
    "v_cutoff = @with_unit 50 \"m/s\"\n",
    "p  = @params (VBRs, transverse, longitudinal, v_cutoff, sidebands, Rscs, scattering_rate)\n",
    "# s = @params (vzs, photons, detectable, states)\n",
    "# sf = deepcopy(s0)\n",
    "\n",
    "# @time s0, sf = propagate!(n, dt, r, v, a, f, save, discard, delete_every, max_steps, p, s0, sf)\n",
    "# bright = [longitudinal[final_state] || transverse[final_state] for final_state in sf.states]\n",
    "# ;"
   ]
  },
  {
   "cell_type": "code",
   "execution_count": 127,
   "metadata": {},
   "outputs": [
    {
     "name": "stdout",
     "output_type": "stream",
     "text": [
      "  0.007119 seconds (105.04 k allocations: 11.219 MiB)\n"
     ]
    }
   ],
   "source": [
    "using StructArrays\n",
    "particles = StructArray{Particle}(undef, n)\n",
    "abstol = 1e-5\n",
    "\n",
    "zs = zeros(Float64, n)\n",
    "\n",
    "s = @params (zs,)\n",
    "\n",
    "@time propagate_particles!(r, v, a, particles, f, save, discard, delete_every, max_steps, p, s, dt, abstol)\n",
    ";"
   ]
  },
  {
   "cell_type": "code",
   "execution_count": 128,
   "metadata": {},
   "outputs": [
    {
     "data": {
      "text/plain": [
       "0.0"
      ]
     },
     "execution_count": 128,
     "metadata": {},
     "output_type": "execute_result"
    }
   ],
   "source": [
    "maximum(s.zs)"
   ]
  },
  {
   "cell_type": "code",
   "execution_count": 19,
   "metadata": {},
   "outputs": [
    {
     "ename": "LoadError",
     "evalue": "UndefVarError: sf not defined",
     "output_type": "error",
     "traceback": [
      "UndefVarError: sf not defined",
      "",
      "Stacktrace:",
      " [1] top-level scope at In[19]:1",
      " [2] include_string(::Function, ::Module, ::String, ::String) at .\\loading.jl:1091",
      " [3] execute_code(::String, ::String) at C:\\Users\\Christian\\.julia\\packages\\IJulia\\rWZ9e\\src\\execute_request.jl:27",
      " [4] execute_request(::ZMQ.Socket, ::IJulia.Msg) at C:\\Users\\Christian\\.julia\\packages\\IJulia\\rWZ9e\\src\\execute_request.jl:86",
      " [5] #invokelatest#1 at .\\essentials.jl:710 [inlined]",
      " [6] invokelatest at .\\essentials.jl:709 [inlined]",
      " [7] eventloop(::ZMQ.Socket) at C:\\Users\\Christian\\.julia\\packages\\IJulia\\rWZ9e\\src\\eventloop.jl:8",
      " [8] (::IJulia.var\"#15#18\")() at .\\task.jl:356"
     ]
    }
   ],
   "source": [
    "sum(37.5 .< sf.vzs[sf.detectable .& bright] .< 42.5) * 2e7 / n"
   ]
  },
  {
   "cell_type": "code",
   "execution_count": 17,
   "metadata": {},
   "outputs": [
    {
     "ename": "LoadError",
     "evalue": "UndefVarError: s0 not defined",
     "output_type": "error",
     "traceback": [
      "UndefVarError: s0 not defined",
      "",
      "Stacktrace:",
      " [1] top-level scope at In[17]:1",
      " [2] include_string(::Function, ::Module, ::String, ::String) at .\\loading.jl:1091",
      " [3] execute_code(::String, ::String) at C:\\Users\\Christian\\.julia\\packages\\IJulia\\rWZ9e\\src\\execute_request.jl:27",
      " [4] execute_request(::ZMQ.Socket, ::IJulia.Msg) at C:\\Users\\Christian\\.julia\\packages\\IJulia\\rWZ9e\\src\\execute_request.jl:86",
      " [5] #invokelatest#1 at .\\essentials.jl:710 [inlined]",
      " [6] invokelatest at .\\essentials.jl:709 [inlined]",
      " [7] eventloop(::ZMQ.Socket) at C:\\Users\\Christian\\.julia\\packages\\IJulia\\rWZ9e\\src\\eventloop.jl:8",
      " [8] (::IJulia.var\"#15#18\")() at .\\task.jl:356"
     ]
    }
   ],
   "source": [
    "barhist(s0.vzs[s0.detectable], bins=0:10:225, alpha=0.5, xlim=[0,225], label=\"Unperturbed\")\n",
    "barhist!(sf.vzs[sf.detectable], bins=0:10:225, alpha=0.5, label=\"Slowed\")\n",
    "barhist!(sf.vzs[sf.detectable .& bright], bins=0:10:225, alpha=0.3, label=\"Slowed and detected\")\n",
    "xlabel!(\"Velocity (m/s)\")\n",
    "ylabel!(\"Molecule count\")"
   ]
  },
  {
   "cell_type": "code",
   "execution_count": 342,
   "metadata": {},
   "outputs": [
    {
     "ename": "LoadError",
     "evalue": "ArgumentError: collection must be non-empty",
     "output_type": "error",
     "traceback": [
      "ArgumentError: collection must be non-empty",
      "",
      "Stacktrace:",
      " [1] _extrema_itr(::typeof(identity), ::Array{Any,1}) at .\\operators.jl:481",
      " [2] _extrema_dims at .\\multidimensional.jl:1585 [inlined]",
      " [3] #extrema#452 at .\\multidimensional.jl:1572 [inlined]",
      " [4] extrema at .\\multidimensional.jl:1572 [inlined]",
      " [5] ignorenan_extrema at C:\\Users\\Christian\\.julia\\packages\\Plots\\5ItHH\\src\\Plots.jl:132 [inlined]",
      " [6] _heatmap_edges(::Array{Any,1}, ::Bool) at C:\\Users\\Christian\\.julia\\packages\\Plots\\5ItHH\\src\\utils.jl:218",
      " [7] heatmap_edges(::StepRangeLen{Float64,Base.TwicePrecision{Float64},Base.TwicePrecision{Float64}}, ::Symbol, ::Bool) at C:\\Users\\Christian\\.julia\\packages\\Plots\\5ItHH\\src\\utils.jl:227",
      " [8] heatmap_edges(::StepRangeLen{Float64,Base.TwicePrecision{Float64},Base.TwicePrecision{Float64}}, ::Symbol) at C:\\Users\\Christian\\.julia\\packages\\Plots\\5ItHH\\src\\utils.jl:226",
      " [9] expand_extrema!(::Plots.Subplot{Plots.GRBackend}, ::RecipesPipeline.DefaultsDict) at C:\\Users\\Christian\\.julia\\packages\\Plots\\5ItHH\\src\\axes.jl:416",
      " [10] _expand_subplot_extrema(::Plots.Subplot{Plots.GRBackend}, ::RecipesPipeline.DefaultsDict, ::Symbol) at C:\\Users\\Christian\\.julia\\packages\\Plots\\5ItHH\\src\\pipeline.jl:361",
      " [11] add_series!(::Plots.Plot{Plots.GRBackend}, ::RecipesPipeline.DefaultsDict) at C:\\Users\\Christian\\.julia\\packages\\Plots\\5ItHH\\src\\pipeline.jl:312",
      " [12] _process_seriesrecipe(::Plots.Plot{Plots.GRBackend}, ::RecipesPipeline.DefaultsDict) at C:\\Users\\Christian\\.julia\\packages\\RecipesPipeline\\tkFmN\\src\\series_recipe.jl:44",
      " [13] _process_seriesrecipe(::Plots.Plot{Plots.GRBackend}, ::RecipesPipeline.DefaultsDict) at C:\\Users\\Christian\\.julia\\packages\\RecipesPipeline\\tkFmN\\src\\series_recipe.jl:58 (repeats 2 times)",
      " [14] _process_seriesrecipes!(::Plots.Plot{Plots.GRBackend}, ::Array{Dict{Symbol,Any},1}) at C:\\Users\\Christian\\.julia\\packages\\RecipesPipeline\\tkFmN\\src\\series_recipe.jl:25",
      " [15] recipe_pipeline!(::Plots.Plot{Plots.GRBackend}, ::Dict{Symbol,Any}, ::Tuple{Array{Float64,1},Array{Float64,1}}) at C:\\Users\\Christian\\.julia\\packages\\RecipesPipeline\\tkFmN\\src\\RecipesPipeline.jl:96",
      " [16] _plot!(::Plots.Plot{Plots.GRBackend}, ::Dict{Symbol,Any}, ::Tuple{Array{Float64,1},Array{Float64,1}}) at C:\\Users\\Christian\\.julia\\packages\\Plots\\5ItHH\\src\\plot.jl:167",
      " [17] plot(::Array{Float64,1}, ::Vararg{Array{Float64,1},N} where N; kw::Base.Iterators.Pairs{Symbol,Any,Tuple{Symbol,Symbol},NamedTuple{(:bins, :seriestype),Tuple{Int64,Symbol}}}) at C:\\Users\\Christian\\.julia\\packages\\Plots\\5ItHH\\src\\plot.jl:57",
      " [18] histogram2d(::Array{Float64,1}, ::Vararg{Array{Float64,1},N} where N; kw::Base.Iterators.Pairs{Symbol,Int64,Tuple{Symbol},NamedTuple{(:bins,),Tuple{Int64}}}) at C:\\Users\\Christian\\.julia\\packages\\RecipesBase\\92zOw\\src\\RecipesBase.jl:403",
      " [19] top-level scope at In[342]:2",
      " [20] include_string(::Function, ::Module, ::String, ::String) at .\\loading.jl:1091",
      " [21] execute_code(::String, ::String) at C:\\Users\\Christian\\.julia\\packages\\IJulia\\rWZ9e\\src\\execute_request.jl:27",
      " [22] execute_request(::ZMQ.Socket, ::IJulia.Msg) at C:\\Users\\Christian\\.julia\\packages\\IJulia\\rWZ9e\\src\\execute_request.jl:86",
      " [23] #invokelatest#1 at .\\essentials.jl:710 [inlined]",
      " [24] invokelatest at .\\essentials.jl:709 [inlined]",
      " [25] eventloop(::ZMQ.Socket) at C:\\Users\\Christian\\.julia\\packages\\IJulia\\rWZ9e\\src\\eventloop.jl:8",
      " [26] (::IJulia.var\"#15#18\")() at .\\task.jl:356"
     ]
    }
   ],
   "source": [
    "v_class = 0 .< sₜ.vzs .< 100\n",
    "histogram2d(sₜ.vzs[sₜ.detectable .& bright.& v_class], s₀.vzs[sₜ.detectable .& bright .& v_class], bins=30)\n",
    "ylabel!(\"Initial velocity (m/s)\")\n",
    "xlabel!(\"Slowed velocity (m/s)\")"
   ]
  },
  {
   "cell_type": "code",
   "execution_count": 258,
   "metadata": {},
   "outputs": [],
   "source": [
    "delete_idxs = 1:100000;"
   ]
  },
  {
   "cell_type": "code",
   "execution_count": 260,
   "metadata": {},
   "outputs": [
    {
     "name": "stdout",
     "output_type": "stream",
     "text": [
      "  1.299 μs (0 allocations: 0 bytes)\n"
     ]
    }
   ],
   "source": [
    "@btime StructArrays.foreachfield(v -> deleteat!(v, $delete_idxs), particles_) setup=(particles_=deepcopy(particles_soa)) evals=1\n",
    ";"
   ]
  },
  {
   "cell_type": "code",
   "execution_count": 26,
   "metadata": {
    "scrolled": true
   },
   "outputs": [
    {
     "ename": "LoadError",
     "evalue": "UndefVarError: addressed not defined",
     "output_type": "error",
     "traceback": [
      "UndefVarError: addressed not defined",
      "",
      "Stacktrace:",
      " [1] top-level scope at C:\\Users\\Christian\\.julia\\dev\\BeamPropagation\\src\\BeamPropagation.jl:9",
      " [2] top-level scope at In[26]:15",
      " [3] include_string(::Function, ::Module, ::String, ::String) at .\\loading.jl:1091",
      " [4] execute_code(::String, ::String) at C:\\Users\\Christian\\.julia\\packages\\IJulia\\rWZ9e\\src\\execute_request.jl:27",
      " [5] execute_request(::ZMQ.Socket, ::IJulia.Msg) at C:\\Users\\Christian\\.julia\\packages\\IJulia\\rWZ9e\\src\\execute_request.jl:86",
      " [6] #invokelatest#1 at .\\essentials.jl:710 [inlined]",
      " [7] invokelatest at .\\essentials.jl:709 [inlined]",
      " [8] eventloop(::ZMQ.Socket) at C:\\Users\\Christian\\.julia\\packages\\IJulia\\rWZ9e\\src\\eventloop.jl:8",
      " [9] (::IJulia.var\"#15#18\")() at .\\task.jl:356"
     ]
    }
   ],
   "source": [
    "iters = 1\n",
    "\n",
    "v_cutoffs = 55:2.0:75\n",
    "data = zeros(iters, size(v_cutoffs, 1))\n",
    "\n",
    "for i in 1:iters\n",
    "    for (j, v_cutoff) in enumerate(v_cutoffs)\n",
    "\n",
    "        vzs           = zeros(Float64, n)\n",
    "        photons       = zeros(Int64, n)\n",
    "        detectable    = zeros(Bool, n)\n",
    "        states        = ones(Int64, n)\n",
    "        s = @params (vzs, photons, detectable, states)\n",
    "        \n",
    "        p = @params (VBRs, transverse, addressed, v_cutoff)\n",
    "\n",
    "        @time s₀, sₜ = propagate!(n, r, v, a, f, save, discard, delete_every, dt, max_steps, p, s)\n",
    "\n",
    "        bright = [addressed[final_state] for final_state in sₜ.states]\n",
    "        perc_under_10ms = sum(abs.(sₜ.vzs[sₜ.detectable .& bright]) .< 10) / sum(s₀.detectable)\n",
    "        data[i,j] = perc_under_10ms\n",
    "    end\n",
    "end"
   ]
  },
  {
   "cell_type": "code",
   "execution_count": 256,
   "metadata": {},
   "outputs": [
    {
     "name": "stdout",
     "output_type": "stream",
     "text": [
      "  0.009094 seconds (9.25 k allocations: 533.613 KiB)\n"
     ]
    }
   ],
   "source": [
    "@time StructArrays.foreachfield(v -> deleteat!(v, delete_idxs), particles_soa)"
   ]
  },
  {
   "cell_type": "code",
   "execution_count": 27,
   "metadata": {},
   "outputs": [
    {
     "data": {
      "image/svg+xml": [
       "<?xml version=\"1.0\" encoding=\"utf-8\"?>\n",
       "<svg xmlns=\"http://www.w3.org/2000/svg\" xmlns:xlink=\"http://www.w3.org/1999/xlink\" width=\"600\" height=\"400\" viewBox=\"0 0 2400 1600\">\n",
       "<defs>\n",
       "  <clipPath id=\"clip210\">\n",
       "    <rect x=\"0\" y=\"0\" width=\"2400\" height=\"1600\"/>\n",
       "  </clipPath>\n",
       "</defs>\n",
       "<path clip-path=\"url(#clip210)\" d=\"\n",
       "M0 1600 L2400 1600 L2400 0 L0 0  Z\n",
       "  \" fill=\"#ffffff\" fill-rule=\"evenodd\" fill-opacity=\"1\"/>\n",
       "<defs>\n",
       "  <clipPath id=\"clip211\">\n",
       "    <rect x=\"480\" y=\"0\" width=\"1681\" height=\"1600\"/>\n",
       "  </clipPath>\n",
       "</defs>\n",
       "<path clip-path=\"url(#clip210)\" d=\"\n",
       "M174.862 1486.45 L2352.76 1486.45 L2352.76 47.2441 L174.862 47.2441  Z\n",
       "  \" fill=\"#ffffff\" fill-rule=\"evenodd\" fill-opacity=\"1\"/>\n",
       "<defs>\n",
       "  <clipPath id=\"clip212\">\n",
       "    <rect x=\"174\" y=\"47\" width=\"2179\" height=\"1440\"/>\n",
       "  </clipPath>\n",
       "</defs>\n",
       "<polyline clip-path=\"url(#clip212)\" style=\"stroke:#000000; stroke-width:2; stroke-opacity:0.1; fill:none\" points=\"\n",
       "  236.501,1486.45 236.501,47.2441 \n",
       "  \"/>\n",
       "<polyline clip-path=\"url(#clip212)\" style=\"stroke:#000000; stroke-width:2; stroke-opacity:0.1; fill:none\" points=\"\n",
       "  750.155,1486.45 750.155,47.2441 \n",
       "  \"/>\n",
       "<polyline clip-path=\"url(#clip212)\" style=\"stroke:#000000; stroke-width:2; stroke-opacity:0.1; fill:none\" points=\"\n",
       "  1263.81,1486.45 1263.81,47.2441 \n",
       "  \"/>\n",
       "<polyline clip-path=\"url(#clip212)\" style=\"stroke:#000000; stroke-width:2; stroke-opacity:0.1; fill:none\" points=\"\n",
       "  1777.46,1486.45 1777.46,47.2441 \n",
       "  \"/>\n",
       "<polyline clip-path=\"url(#clip212)\" style=\"stroke:#000000; stroke-width:2; stroke-opacity:0.1; fill:none\" points=\"\n",
       "  2291.12,1486.45 2291.12,47.2441 \n",
       "  \"/>\n",
       "<polyline clip-path=\"url(#clip210)\" style=\"stroke:#000000; stroke-width:4; stroke-opacity:1; fill:none\" points=\"\n",
       "  174.862,1486.45 2352.76,1486.45 \n",
       "  \"/>\n",
       "<polyline clip-path=\"url(#clip210)\" style=\"stroke:#000000; stroke-width:4; stroke-opacity:1; fill:none\" points=\"\n",
       "  236.501,1486.45 236.501,1469.18 \n",
       "  \"/>\n",
       "<polyline clip-path=\"url(#clip210)\" style=\"stroke:#000000; stroke-width:4; stroke-opacity:1; fill:none\" points=\"\n",
       "  750.155,1486.45 750.155,1469.18 \n",
       "  \"/>\n",
       "<polyline clip-path=\"url(#clip210)\" style=\"stroke:#000000; stroke-width:4; stroke-opacity:1; fill:none\" points=\"\n",
       "  1263.81,1486.45 1263.81,1469.18 \n",
       "  \"/>\n",
       "<polyline clip-path=\"url(#clip210)\" style=\"stroke:#000000; stroke-width:4; stroke-opacity:1; fill:none\" points=\"\n",
       "  1777.46,1486.45 1777.46,1469.18 \n",
       "  \"/>\n",
       "<polyline clip-path=\"url(#clip210)\" style=\"stroke:#000000; stroke-width:4; stroke-opacity:1; fill:none\" points=\"\n",
       "  2291.12,1486.45 2291.12,1469.18 \n",
       "  \"/>\n",
       "<path clip-path=\"url(#clip210)\" d=\"M 0 0 M213.769 1512.56 L232.126 1512.56 L232.126 1516.5 L218.052 1516.5 L218.052 1524.97 Q219.07 1524.62 220.089 1524.46 Q221.107 1524.27 222.126 1524.27 Q227.913 1524.27 231.292 1527.44 Q234.672 1530.62 234.672 1536.03 Q234.672 1541.61 231.2 1544.71 Q227.727 1547.79 221.408 1547.79 Q219.232 1547.79 216.964 1547.42 Q214.718 1547.05 212.311 1546.31 L212.311 1541.61 Q214.394 1542.74 216.616 1543.3 Q218.839 1543.86 221.315 1543.86 Q225.32 1543.86 227.658 1541.75 Q229.996 1539.64 229.996 1536.03 Q229.996 1532.42 227.658 1530.31 Q225.32 1528.21 221.315 1528.21 Q219.44 1528.21 217.565 1528.62 Q215.714 1529.04 213.769 1529.92 L213.769 1512.56 Z\" fill=\"#000000\" fill-rule=\"evenodd\" fill-opacity=\"1\" /><path clip-path=\"url(#clip210)\" d=\"M 0 0 M239.788 1512.56 L258.144 1512.56 L258.144 1516.5 L244.07 1516.5 L244.07 1524.97 Q245.088 1524.62 246.107 1524.46 Q247.125 1524.27 248.144 1524.27 Q253.931 1524.27 257.311 1527.44 Q260.69 1530.62 260.69 1536.03 Q260.69 1541.61 257.218 1544.71 Q253.746 1547.79 247.426 1547.79 Q245.25 1547.79 242.982 1547.42 Q240.737 1547.05 238.329 1546.31 L238.329 1541.61 Q240.413 1542.74 242.635 1543.3 Q244.857 1543.86 247.334 1543.86 Q251.338 1543.86 253.676 1541.75 Q256.014 1539.64 256.014 1536.03 Q256.014 1532.42 253.676 1530.31 Q251.338 1528.21 247.334 1528.21 Q245.459 1528.21 243.584 1528.62 Q241.732 1529.04 239.788 1529.92 L239.788 1512.56 Z\" fill=\"#000000\" fill-rule=\"evenodd\" fill-opacity=\"1\" /><path clip-path=\"url(#clip210)\" d=\"M 0 0 M737.053 1527.98 Q733.905 1527.98 732.053 1530.13 Q730.224 1532.28 730.224 1536.03 Q730.224 1539.76 732.053 1541.93 Q733.905 1544.09 737.053 1544.09 Q740.201 1544.09 742.03 1541.93 Q743.882 1539.76 743.882 1536.03 Q743.882 1532.28 742.03 1530.13 Q740.201 1527.98 737.053 1527.98 M746.335 1513.32 L746.335 1517.58 Q744.576 1516.75 742.771 1516.31 Q740.988 1515.87 739.229 1515.87 Q734.599 1515.87 732.146 1519 Q729.715 1522.12 729.368 1528.44 Q730.734 1526.43 732.794 1525.36 Q734.854 1524.27 737.331 1524.27 Q742.539 1524.27 745.548 1527.44 Q748.581 1530.59 748.581 1536.03 Q748.581 1541.36 745.433 1544.57 Q742.284 1547.79 737.053 1547.79 Q731.058 1547.79 727.886 1543.21 Q724.715 1538.6 724.715 1529.87 Q724.715 1521.68 728.604 1516.82 Q732.493 1511.93 739.044 1511.93 Q740.803 1511.93 742.585 1512.28 Q744.391 1512.63 746.335 1513.32 Z\" fill=\"#000000\" fill-rule=\"evenodd\" fill-opacity=\"1\" /><path clip-path=\"url(#clip210)\" d=\"M 0 0 M763.65 1515.64 Q760.039 1515.64 758.21 1519.2 Q756.405 1522.75 756.405 1529.87 Q756.405 1536.98 758.21 1540.55 Q760.039 1544.09 763.65 1544.09 Q767.284 1544.09 769.09 1540.55 Q770.919 1536.98 770.919 1529.87 Q770.919 1522.75 769.09 1519.2 Q767.284 1515.64 763.65 1515.64 M763.65 1511.93 Q769.46 1511.93 772.516 1516.54 Q775.594 1521.12 775.594 1529.87 Q775.594 1538.6 772.516 1543.21 Q769.46 1547.79 763.65 1547.79 Q757.84 1547.79 754.761 1543.21 Q751.706 1538.6 751.706 1529.87 Q751.706 1521.12 754.761 1516.54 Q757.84 1511.93 763.65 1511.93 Z\" fill=\"#000000\" fill-rule=\"evenodd\" fill-opacity=\"1\" /><path clip-path=\"url(#clip210)\" d=\"M 0 0 M1251.2 1527.98 Q1248.06 1527.98 1246.2 1530.13 Q1244.38 1532.28 1244.38 1536.03 Q1244.38 1539.76 1246.2 1541.93 Q1248.06 1544.09 1251.2 1544.09 Q1254.35 1544.09 1256.18 1541.93 Q1258.03 1539.76 1258.03 1536.03 Q1258.03 1532.28 1256.18 1530.13 Q1254.35 1527.98 1251.2 1527.98 M1260.49 1513.32 L1260.49 1517.58 Q1258.73 1516.75 1256.92 1516.31 Q1255.14 1515.87 1253.38 1515.87 Q1248.75 1515.87 1246.3 1519 Q1243.87 1522.12 1243.52 1528.44 Q1244.89 1526.43 1246.95 1525.36 Q1249.01 1524.27 1251.48 1524.27 Q1256.69 1524.27 1259.7 1527.44 Q1262.73 1530.59 1262.73 1536.03 Q1262.73 1541.36 1259.58 1544.57 Q1256.44 1547.79 1251.2 1547.79 Q1245.21 1547.79 1242.04 1543.21 Q1238.87 1538.6 1238.87 1529.87 Q1238.87 1521.68 1242.76 1516.82 Q1246.64 1511.93 1253.2 1511.93 Q1254.95 1511.93 1256.74 1512.28 Q1258.54 1512.63 1260.49 1513.32 Z\" fill=\"#000000\" fill-rule=\"evenodd\" fill-opacity=\"1\" /><path clip-path=\"url(#clip210)\" d=\"M 0 0 M1267.85 1512.56 L1286.2 1512.56 L1286.2 1516.5 L1272.13 1516.5 L1272.13 1524.97 Q1273.15 1524.62 1274.17 1524.46 Q1275.19 1524.27 1276.2 1524.27 Q1281.99 1524.27 1285.37 1527.44 Q1288.75 1530.62 1288.75 1536.03 Q1288.75 1541.61 1285.28 1544.71 Q1281.81 1547.79 1275.49 1547.79 Q1273.31 1547.79 1271.04 1547.42 Q1268.8 1547.05 1266.39 1546.31 L1266.39 1541.61 Q1268.47 1542.74 1270.7 1543.3 Q1272.92 1543.86 1275.39 1543.86 Q1279.4 1543.86 1281.74 1541.75 Q1284.08 1539.64 1284.08 1536.03 Q1284.08 1532.42 1281.74 1530.31 Q1279.4 1528.21 1275.39 1528.21 Q1273.52 1528.21 1271.64 1528.62 Q1269.79 1529.04 1267.85 1529.92 L1267.85 1512.56 Z\" fill=\"#000000\" fill-rule=\"evenodd\" fill-opacity=\"1\" /><path clip-path=\"url(#clip210)\" d=\"M 0 0 M1752.85 1512.56 L1775.07 1512.56 L1775.07 1514.55 L1762.52 1547.12 L1757.64 1547.12 L1769.44 1516.5 L1752.85 1516.5 L1752.85 1512.56 Z\" fill=\"#000000\" fill-rule=\"evenodd\" fill-opacity=\"1\" /><path clip-path=\"url(#clip210)\" d=\"M 0 0 M1790.14 1515.64 Q1786.53 1515.64 1784.7 1519.2 Q1782.89 1522.75 1782.89 1529.87 Q1782.89 1536.98 1784.7 1540.55 Q1786.53 1544.09 1790.14 1544.09 Q1793.77 1544.09 1795.58 1540.55 Q1797.41 1536.98 1797.41 1529.87 Q1797.41 1522.75 1795.58 1519.2 Q1793.77 1515.64 1790.14 1515.64 M1790.14 1511.93 Q1795.95 1511.93 1799 1516.54 Q1802.08 1521.12 1802.08 1529.87 Q1802.08 1538.6 1799 1543.21 Q1795.95 1547.79 1790.14 1547.79 Q1784.33 1547.79 1781.25 1543.21 Q1778.19 1538.6 1778.19 1529.87 Q1778.19 1521.12 1781.25 1516.54 Q1784.33 1511.93 1790.14 1511.93 Z\" fill=\"#000000\" fill-rule=\"evenodd\" fill-opacity=\"1\" /><path clip-path=\"url(#clip210)\" d=\"M 0 0 M2267 1512.56 L2289.22 1512.56 L2289.22 1514.55 L2276.67 1547.12 L2271.79 1547.12 L2283.59 1516.5 L2267 1516.5 L2267 1512.56 Z\" fill=\"#000000\" fill-rule=\"evenodd\" fill-opacity=\"1\" /><path clip-path=\"url(#clip210)\" d=\"M 0 0 M2294.33 1512.56 L2312.69 1512.56 L2312.69 1516.5 L2298.62 1516.5 L2298.62 1524.97 Q2299.64 1524.62 2300.65 1524.46 Q2301.67 1524.27 2302.69 1524.27 Q2308.48 1524.27 2311.86 1527.44 Q2315.24 1530.62 2315.24 1536.03 Q2315.24 1541.61 2311.77 1544.71 Q2308.29 1547.79 2301.97 1547.79 Q2299.8 1547.79 2297.53 1547.42 Q2295.28 1547.05 2292.88 1546.31 L2292.88 1541.61 Q2294.96 1542.74 2297.18 1543.3 Q2299.4 1543.86 2301.88 1543.86 Q2305.89 1543.86 2308.22 1541.75 Q2310.56 1539.64 2310.56 1536.03 Q2310.56 1532.42 2308.22 1530.31 Q2305.89 1528.21 2301.88 1528.21 Q2300.01 1528.21 2298.13 1528.62 Q2296.28 1529.04 2294.33 1529.92 L2294.33 1512.56 Z\" fill=\"#000000\" fill-rule=\"evenodd\" fill-opacity=\"1\" /><polyline clip-path=\"url(#clip212)\" style=\"stroke:#000000; stroke-width:2; stroke-opacity:0.1; fill:none\" points=\"\n",
       "  174.862,1445.72 2352.76,1445.72 \n",
       "  \"/>\n",
       "<polyline clip-path=\"url(#clip212)\" style=\"stroke:#000000; stroke-width:2; stroke-opacity:0.1; fill:none\" points=\"\n",
       "  174.862,1106.28 2352.76,1106.28 \n",
       "  \"/>\n",
       "<polyline clip-path=\"url(#clip212)\" style=\"stroke:#000000; stroke-width:2; stroke-opacity:0.1; fill:none\" points=\"\n",
       "  174.862,766.846 2352.76,766.846 \n",
       "  \"/>\n",
       "<polyline clip-path=\"url(#clip212)\" style=\"stroke:#000000; stroke-width:2; stroke-opacity:0.1; fill:none\" points=\"\n",
       "  174.862,427.411 2352.76,427.411 \n",
       "  \"/>\n",
       "<polyline clip-path=\"url(#clip212)\" style=\"stroke:#000000; stroke-width:2; stroke-opacity:0.1; fill:none\" points=\"\n",
       "  174.862,87.9763 2352.76,87.9763 \n",
       "  \"/>\n",
       "<polyline clip-path=\"url(#clip210)\" style=\"stroke:#000000; stroke-width:4; stroke-opacity:1; fill:none\" points=\"\n",
       "  174.862,1486.45 174.862,47.2441 \n",
       "  \"/>\n",
       "<polyline clip-path=\"url(#clip210)\" style=\"stroke:#000000; stroke-width:4; stroke-opacity:1; fill:none\" points=\"\n",
       "  174.862,1445.72 200.997,1445.72 \n",
       "  \"/>\n",
       "<polyline clip-path=\"url(#clip210)\" style=\"stroke:#000000; stroke-width:4; stroke-opacity:1; fill:none\" points=\"\n",
       "  174.862,1106.28 200.997,1106.28 \n",
       "  \"/>\n",
       "<polyline clip-path=\"url(#clip210)\" style=\"stroke:#000000; stroke-width:4; stroke-opacity:1; fill:none\" points=\"\n",
       "  174.862,766.846 200.997,766.846 \n",
       "  \"/>\n",
       "<polyline clip-path=\"url(#clip210)\" style=\"stroke:#000000; stroke-width:4; stroke-opacity:1; fill:none\" points=\"\n",
       "  174.862,427.411 200.997,427.411 \n",
       "  \"/>\n",
       "<polyline clip-path=\"url(#clip210)\" style=\"stroke:#000000; stroke-width:4; stroke-opacity:1; fill:none\" points=\"\n",
       "  174.862,87.9763 200.997,87.9763 \n",
       "  \"/>\n",
       "<path clip-path=\"url(#clip210)\" d=\"M 0 0 M62.9365 1431.51 Q59.3254 1431.51 57.4967 1435.08 Q55.6912 1438.62 55.6912 1445.75 Q55.6912 1452.86 57.4967 1456.42 Q59.3254 1459.96 62.9365 1459.96 Q66.5707 1459.96 68.3763 1456.42 Q70.205 1452.86 70.205 1445.75 Q70.205 1438.62 68.3763 1435.08 Q66.5707 1431.51 62.9365 1431.51 M62.9365 1427.81 Q68.7467 1427.81 71.8022 1432.42 Q74.8809 1437 74.8809 1445.75 Q74.8809 1454.48 71.8022 1459.08 Q68.7467 1463.67 62.9365 1463.67 Q57.1264 1463.67 54.0477 1459.08 Q50.9921 1454.48 50.9921 1445.75 Q50.9921 1437 54.0477 1432.42 Q57.1264 1427.81 62.9365 1427.81 Z\" fill=\"#000000\" fill-rule=\"evenodd\" fill-opacity=\"1\" /><path clip-path=\"url(#clip210)\" d=\"M 0 0 M79.9503 1457.12 L84.8345 1457.12 L84.8345 1463 L79.9503 1463 L79.9503 1457.12 Z\" fill=\"#000000\" fill-rule=\"evenodd\" fill-opacity=\"1\" /><path clip-path=\"url(#clip210)\" d=\"M 0 0 M99.9039 1431.51 Q96.2928 1431.51 94.4641 1435.08 Q92.6586 1438.62 92.6586 1445.75 Q92.6586 1452.86 94.4641 1456.42 Q96.2928 1459.96 99.9039 1459.96 Q103.538 1459.96 105.344 1456.42 Q107.172 1452.86 107.172 1445.75 Q107.172 1438.62 105.344 1435.08 Q103.538 1431.51 99.9039 1431.51 M99.9039 1427.81 Q105.714 1427.81 108.77 1432.42 Q111.848 1437 111.848 1445.75 Q111.848 1454.48 108.77 1459.08 Q105.714 1463.67 99.9039 1463.67 Q94.0937 1463.67 91.0151 1459.08 Q87.9595 1454.48 87.9595 1445.75 Q87.9595 1437 91.0151 1432.42 Q94.0937 1427.81 99.9039 1427.81 Z\" fill=\"#000000\" fill-rule=\"evenodd\" fill-opacity=\"1\" /><path clip-path=\"url(#clip210)\" d=\"M 0 0 M126.918 1431.51 Q123.307 1431.51 121.478 1435.08 Q119.672 1438.62 119.672 1445.75 Q119.672 1452.86 121.478 1456.42 Q123.307 1459.96 126.918 1459.96 Q130.552 1459.96 132.357 1456.42 Q134.186 1452.86 134.186 1445.75 Q134.186 1438.62 132.357 1435.08 Q130.552 1431.51 126.918 1431.51 M126.918 1427.81 Q132.728 1427.81 135.783 1432.42 Q138.862 1437 138.862 1445.75 Q138.862 1454.48 135.783 1459.08 Q132.728 1463.67 126.918 1463.67 Q121.107 1463.67 118.029 1459.08 Q114.973 1454.48 114.973 1445.75 Q114.973 1437 118.029 1432.42 Q121.107 1427.81 126.918 1427.81 Z\" fill=\"#000000\" fill-rule=\"evenodd\" fill-opacity=\"1\" /><path clip-path=\"url(#clip210)\" d=\"M 0 0 M65.5291 1092.08 Q61.918 1092.08 60.0893 1095.64 Q58.2838 1099.19 58.2838 1106.32 Q58.2838 1113.42 60.0893 1116.99 Q61.918 1120.53 65.5291 1120.53 Q69.1633 1120.53 70.9689 1116.99 Q72.7976 1113.42 72.7976 1106.32 Q72.7976 1099.19 70.9689 1095.64 Q69.1633 1092.08 65.5291 1092.08 M65.5291 1088.38 Q71.3392 1088.38 74.3948 1092.98 Q77.4735 1097.57 77.4735 1106.32 Q77.4735 1115.04 74.3948 1119.65 Q71.3392 1124.23 65.5291 1124.23 Q59.7189 1124.23 56.6402 1119.65 Q53.5847 1115.04 53.5847 1106.32 Q53.5847 1097.57 56.6402 1092.98 Q59.7189 1088.38 65.5291 1088.38 Z\" fill=\"#000000\" fill-rule=\"evenodd\" fill-opacity=\"1\" /><path clip-path=\"url(#clip210)\" d=\"M 0 0 M82.5429 1117.68 L87.4271 1117.68 L87.4271 1123.56 L82.5429 1123.56 L82.5429 1117.68 Z\" fill=\"#000000\" fill-rule=\"evenodd\" fill-opacity=\"1\" /><path clip-path=\"url(#clip210)\" d=\"M 0 0 M96.5243 1119.63 L112.844 1119.63 L112.844 1123.56 L90.8993 1123.56 L90.8993 1119.63 Q93.5613 1116.87 98.1447 1112.24 Q102.751 1107.59 103.932 1106.25 Q106.177 1103.72 107.057 1101.99 Q107.959 1100.23 107.959 1098.54 Q107.959 1095.78 106.015 1094.05 Q104.094 1092.31 100.992 1092.31 Q98.7928 1092.31 96.3391 1093.07 Q93.9086 1093.84 91.1308 1095.39 L91.1308 1090.67 Q93.9549 1089.53 96.4085 1088.95 Q98.8622 1088.38 100.899 1088.38 Q106.27 1088.38 109.464 1091.06 Q112.658 1093.75 112.658 1098.24 Q112.658 1100.37 111.848 1102.29 Q111.061 1104.19 108.955 1106.78 Q108.376 1107.45 105.274 1110.67 Q102.172 1113.86 96.5243 1119.63 Z\" fill=\"#000000\" fill-rule=\"evenodd\" fill-opacity=\"1\" /><path clip-path=\"url(#clip210)\" d=\"M 0 0 M117.959 1089 L136.316 1089 L136.316 1092.94 L122.242 1092.94 L122.242 1101.41 Q123.26 1101.06 124.279 1100.9 Q125.297 1100.71 126.316 1100.71 Q132.103 1100.71 135.482 1103.89 Q138.862 1107.06 138.862 1112.47 Q138.862 1118.05 135.39 1121.15 Q131.918 1124.23 125.598 1124.23 Q123.422 1124.23 121.154 1123.86 Q118.908 1123.49 116.501 1122.75 L116.501 1118.05 Q118.584 1119.19 120.807 1119.74 Q123.029 1120.3 125.506 1120.3 Q129.51 1120.3 131.848 1118.19 Q134.186 1116.08 134.186 1112.47 Q134.186 1108.86 131.848 1106.76 Q129.51 1104.65 125.506 1104.65 Q123.631 1104.65 121.756 1105.07 Q119.904 1105.48 117.959 1106.36 L117.959 1089 Z\" fill=\"#000000\" fill-rule=\"evenodd\" fill-opacity=\"1\" /><path clip-path=\"url(#clip210)\" d=\"M 0 0 M63.9319 752.645 Q60.3208 752.645 58.4921 756.209 Q56.6865 759.751 56.6865 766.881 Q56.6865 773.987 58.4921 777.552 Q60.3208 781.094 63.9319 781.094 Q67.5661 781.094 69.3717 777.552 Q71.2004 773.987 71.2004 766.881 Q71.2004 759.751 69.3717 756.209 Q67.5661 752.645 63.9319 752.645 M63.9319 748.941 Q69.742 748.941 72.7976 753.547 Q75.8763 758.131 75.8763 766.881 Q75.8763 775.608 72.7976 780.214 Q69.742 784.797 63.9319 784.797 Q58.1217 784.797 55.043 780.214 Q51.9875 775.608 51.9875 766.881 Q51.9875 758.131 55.043 753.547 Q58.1217 748.941 63.9319 748.941 Z\" fill=\"#000000\" fill-rule=\"evenodd\" fill-opacity=\"1\" /><path clip-path=\"url(#clip210)\" d=\"M 0 0 M80.9457 778.246 L85.8299 778.246 L85.8299 784.126 L80.9457 784.126 L80.9457 778.246 Z\" fill=\"#000000\" fill-rule=\"evenodd\" fill-opacity=\"1\" /><path clip-path=\"url(#clip210)\" d=\"M 0 0 M90.9456 749.566 L109.302 749.566 L109.302 753.501 L95.228 753.501 L95.228 761.973 Q96.2465 761.626 97.265 761.464 Q98.2835 761.279 99.3021 761.279 Q105.089 761.279 108.469 764.45 Q111.848 767.621 111.848 773.038 Q111.848 778.617 108.376 781.719 Q104.904 784.797 98.5845 784.797 Q96.4085 784.797 94.14 784.427 Q91.8947 784.057 89.4873 783.316 L89.4873 778.617 Q91.5706 779.751 93.7928 780.307 Q96.015 780.862 98.4919 780.862 Q102.496 780.862 104.834 778.756 Q107.172 776.649 107.172 773.038 Q107.172 769.427 104.834 767.321 Q102.496 765.214 98.4919 765.214 Q96.6169 765.214 94.7419 765.631 Q92.89 766.047 90.9456 766.927 L90.9456 749.566 Z\" fill=\"#000000\" fill-rule=\"evenodd\" fill-opacity=\"1\" /><path clip-path=\"url(#clip210)\" d=\"M 0 0 M126.918 752.645 Q123.307 752.645 121.478 756.209 Q119.672 759.751 119.672 766.881 Q119.672 773.987 121.478 777.552 Q123.307 781.094 126.918 781.094 Q130.552 781.094 132.357 777.552 Q134.186 773.987 134.186 766.881 Q134.186 759.751 132.357 756.209 Q130.552 752.645 126.918 752.645 M126.918 748.941 Q132.728 748.941 135.783 753.547 Q138.862 758.131 138.862 766.881 Q138.862 775.608 135.783 780.214 Q132.728 784.797 126.918 784.797 Q121.107 784.797 118.029 780.214 Q114.973 775.608 114.973 766.881 Q114.973 758.131 118.029 753.547 Q121.107 748.941 126.918 748.941 Z\" fill=\"#000000\" fill-rule=\"evenodd\" fill-opacity=\"1\" /><path clip-path=\"url(#clip210)\" d=\"M 0 0 M64.8346 413.21 Q61.2236 413.21 59.3949 416.775 Q57.5893 420.316 57.5893 427.446 Q57.5893 434.552 59.3949 438.117 Q61.2236 441.659 64.8346 441.659 Q68.4689 441.659 70.2744 438.117 Q72.1031 434.552 72.1031 427.446 Q72.1031 420.316 70.2744 416.775 Q68.4689 413.21 64.8346 413.21 M64.8346 409.506 Q70.6448 409.506 73.7003 414.113 Q76.779 418.696 76.779 427.446 Q76.779 436.173 73.7003 440.779 Q70.6448 445.362 64.8346 445.362 Q59.0245 445.362 55.9458 440.779 Q52.8903 436.173 52.8903 427.446 Q52.8903 418.696 55.9458 414.113 Q59.0245 409.506 64.8346 409.506 Z\" fill=\"#000000\" fill-rule=\"evenodd\" fill-opacity=\"1\" /><path clip-path=\"url(#clip210)\" d=\"M 0 0 M81.8484 438.812 L86.7327 438.812 L86.7327 444.691 L81.8484 444.691 L81.8484 438.812 Z\" fill=\"#000000\" fill-rule=\"evenodd\" fill-opacity=\"1\" /><path clip-path=\"url(#clip210)\" d=\"M 0 0 M90.6215 410.131 L112.844 410.131 L112.844 412.122 L100.297 444.691 L95.4132 444.691 L107.219 414.066 L90.6215 414.066 L90.6215 410.131 Z\" fill=\"#000000\" fill-rule=\"evenodd\" fill-opacity=\"1\" /><path clip-path=\"url(#clip210)\" d=\"M 0 0 M117.959 410.131 L136.316 410.131 L136.316 414.066 L122.242 414.066 L122.242 422.538 Q123.26 422.191 124.279 422.029 Q125.297 421.844 126.316 421.844 Q132.103 421.844 135.482 425.015 Q138.862 428.187 138.862 433.603 Q138.862 439.182 135.39 442.284 Q131.918 445.362 125.598 445.362 Q123.422 445.362 121.154 444.992 Q118.908 444.622 116.501 443.881 L116.501 439.182 Q118.584 440.316 120.807 440.872 Q123.029 441.427 125.506 441.427 Q129.51 441.427 131.848 439.321 Q134.186 437.214 134.186 433.603 Q134.186 429.992 131.848 427.886 Q129.51 425.779 125.506 425.779 Q123.631 425.779 121.756 426.196 Q119.904 426.613 117.959 427.492 L117.959 410.131 Z\" fill=\"#000000\" fill-rule=\"evenodd\" fill-opacity=\"1\" /><path clip-path=\"url(#clip210)\" d=\"M 0 0 M54.9736 101.321 L62.6124 101.321 L62.6124 74.9555 L54.3023 76.6222 L54.3023 72.3629 L62.5661 70.6963 L67.242 70.6963 L67.242 101.321 L74.8809 101.321 L74.8809 105.256 L54.9736 105.256 L54.9736 101.321 Z\" fill=\"#000000\" fill-rule=\"evenodd\" fill-opacity=\"1\" /><path clip-path=\"url(#clip210)\" d=\"M 0 0 M79.9503 99.3767 L84.8345 99.3767 L84.8345 105.256 L79.9503 105.256 L79.9503 99.3767 Z\" fill=\"#000000\" fill-rule=\"evenodd\" fill-opacity=\"1\" /><path clip-path=\"url(#clip210)\" d=\"M 0 0 M99.9039 73.775 Q96.2928 73.775 94.4641 77.3398 Q92.6586 80.8814 92.6586 88.011 Q92.6586 95.1174 94.4641 98.6822 Q96.2928 102.224 99.9039 102.224 Q103.538 102.224 105.344 98.6822 Q107.172 95.1174 107.172 88.011 Q107.172 80.8814 105.344 77.3398 Q103.538 73.775 99.9039 73.775 M99.9039 70.0713 Q105.714 70.0713 108.77 74.6777 Q111.848 79.261 111.848 88.011 Q111.848 96.7378 108.77 101.344 Q105.714 105.928 99.9039 105.928 Q94.0937 105.928 91.0151 101.344 Q87.9595 96.7378 87.9595 88.011 Q87.9595 79.261 91.0151 74.6777 Q94.0937 70.0713 99.9039 70.0713 Z\" fill=\"#000000\" fill-rule=\"evenodd\" fill-opacity=\"1\" /><path clip-path=\"url(#clip210)\" d=\"M 0 0 M126.918 73.775 Q123.307 73.775 121.478 77.3398 Q119.672 80.8814 119.672 88.011 Q119.672 95.1174 121.478 98.6822 Q123.307 102.224 126.918 102.224 Q130.552 102.224 132.357 98.6822 Q134.186 95.1174 134.186 88.011 Q134.186 80.8814 132.357 77.3398 Q130.552 73.775 126.918 73.775 M126.918 70.0713 Q132.728 70.0713 135.783 74.6777 Q138.862 79.261 138.862 88.011 Q138.862 96.7378 135.783 101.344 Q132.728 105.928 126.918 105.928 Q121.107 105.928 118.029 101.344 Q114.973 96.7378 114.973 88.011 Q114.973 79.261 118.029 74.6777 Q121.107 70.0713 126.918 70.0713 Z\" fill=\"#000000\" fill-rule=\"evenodd\" fill-opacity=\"1\" /><circle clip-path=\"url(#clip212)\" cx=\"236.501\" cy=\"1445.72\" r=\"14\" fill=\"#009af9\" fill-rule=\"evenodd\" fill-opacity=\"1\" stroke=\"#000000\" stroke-opacity=\"1\" stroke-width=\"3.2\"/>\n",
       "<circle clip-path=\"url(#clip212)\" cx=\"441.962\" cy=\"1445.72\" r=\"14\" fill=\"#009af9\" fill-rule=\"evenodd\" fill-opacity=\"1\" stroke=\"#000000\" stroke-opacity=\"1\" stroke-width=\"3.2\"/>\n",
       "<circle clip-path=\"url(#clip212)\" cx=\"647.424\" cy=\"1445.72\" r=\"14\" fill=\"#009af9\" fill-rule=\"evenodd\" fill-opacity=\"1\" stroke=\"#000000\" stroke-opacity=\"1\" stroke-width=\"3.2\"/>\n",
       "<circle clip-path=\"url(#clip212)\" cx=\"852.886\" cy=\"1445.72\" r=\"14\" fill=\"#009af9\" fill-rule=\"evenodd\" fill-opacity=\"1\" stroke=\"#000000\" stroke-opacity=\"1\" stroke-width=\"3.2\"/>\n",
       "<circle clip-path=\"url(#clip212)\" cx=\"1058.35\" cy=\"1445.72\" r=\"14\" fill=\"#009af9\" fill-rule=\"evenodd\" fill-opacity=\"1\" stroke=\"#000000\" stroke-opacity=\"1\" stroke-width=\"3.2\"/>\n",
       "<circle clip-path=\"url(#clip212)\" cx=\"1263.81\" cy=\"1445.72\" r=\"14\" fill=\"#009af9\" fill-rule=\"evenodd\" fill-opacity=\"1\" stroke=\"#000000\" stroke-opacity=\"1\" stroke-width=\"3.2\"/>\n",
       "<circle clip-path=\"url(#clip212)\" cx=\"1469.27\" cy=\"1445.72\" r=\"14\" fill=\"#009af9\" fill-rule=\"evenodd\" fill-opacity=\"1\" stroke=\"#000000\" stroke-opacity=\"1\" stroke-width=\"3.2\"/>\n",
       "<circle clip-path=\"url(#clip212)\" cx=\"1674.73\" cy=\"1445.72\" r=\"14\" fill=\"#009af9\" fill-rule=\"evenodd\" fill-opacity=\"1\" stroke=\"#000000\" stroke-opacity=\"1\" stroke-width=\"3.2\"/>\n",
       "<circle clip-path=\"url(#clip212)\" cx=\"1880.19\" cy=\"1445.72\" r=\"14\" fill=\"#009af9\" fill-rule=\"evenodd\" fill-opacity=\"1\" stroke=\"#000000\" stroke-opacity=\"1\" stroke-width=\"3.2\"/>\n",
       "<circle clip-path=\"url(#clip212)\" cx=\"2085.66\" cy=\"1445.72\" r=\"14\" fill=\"#009af9\" fill-rule=\"evenodd\" fill-opacity=\"1\" stroke=\"#000000\" stroke-opacity=\"1\" stroke-width=\"3.2\"/>\n",
       "<circle clip-path=\"url(#clip212)\" cx=\"2291.12\" cy=\"1445.72\" r=\"14\" fill=\"#009af9\" fill-rule=\"evenodd\" fill-opacity=\"1\" stroke=\"#000000\" stroke-opacity=\"1\" stroke-width=\"3.2\"/>\n",
       "<path clip-path=\"url(#clip210)\" d=\"\n",
       "M1987.15 216.178 L2280.16 216.178 L2280.16 95.2176 L1987.15 95.2176  Z\n",
       "  \" fill=\"#ffffff\" fill-rule=\"evenodd\" fill-opacity=\"1\"/>\n",
       "<polyline clip-path=\"url(#clip210)\" style=\"stroke:#000000; stroke-width:4; stroke-opacity:1; fill:none\" points=\"\n",
       "  1987.15,216.178 2280.16,216.178 2280.16,95.2176 1987.15,95.2176 1987.15,216.178 \n",
       "  \"/>\n",
       "<circle clip-path=\"url(#clip210)\" cx=\"2083.95\" cy=\"155.698\" r=\"23\" fill=\"#009af9\" fill-rule=\"evenodd\" fill-opacity=\"1\" stroke=\"#000000\" stroke-opacity=\"1\" stroke-width=\"5.12\"/>\n",
       "<path clip-path=\"url(#clip210)\" d=\"M 0 0 M2194.59 175.385 Q2192.78 180.015 2191.07 181.427 Q2189.35 182.839 2186.48 182.839 L2183.08 182.839 L2183.08 179.274 L2185.58 179.274 Q2187.34 179.274 2188.31 178.44 Q2189.29 177.607 2190.47 174.505 L2191.23 172.561 L2180.74 147.052 L2185.26 147.052 L2193.36 167.329 L2201.46 147.052 L2205.97 147.052 L2194.59 175.385 Z\" fill=\"#000000\" fill-rule=\"evenodd\" fill-opacity=\"1\" /><path clip-path=\"url(#clip210)\" d=\"M 0 0 M2211.85 169.042 L2219.49 169.042 L2219.49 142.677 L2211.18 144.343 L2211.18 140.084 L2219.45 138.418 L2224.12 138.418 L2224.12 169.042 L2231.76 169.042 L2231.76 172.978 L2211.85 172.978 L2211.85 169.042 Z\" fill=\"#000000\" fill-rule=\"evenodd\" fill-opacity=\"1\" /></svg>\n"
      ]
     },
     "execution_count": 27,
     "metadata": {},
     "output_type": "execute_result"
    }
   ],
   "source": [
    "scatter(v_cutoffs, mean(data, dims=1)')"
   ]
  },
  {
   "cell_type": "code",
   "execution_count": 6034,
   "metadata": {},
   "outputs": [
    {
     "name": "stdout",
     "output_type": "stream",
     "text": [
      "  4.799 ns (0 allocations: 0 bytes)\n"
     ]
    },
    {
     "data": {
      "text/plain": [
       "0.4"
      ]
     },
     "execution_count": 6034,
     "metadata": {},
     "output_type": "execute_result"
    }
   ],
   "source": [
    "# This assumes that the z-axis is discretized into 7100 elements across 71 cm (so each element covers 0.1 mm)\n",
    "@inline function interpolate_forceprofile(forceprofile, r, v)\n",
    "    z = r[3]\n",
    "    force_idx = round(Int64, z * 1e4) + 1\n",
    "    force = forceprofile[force_idx]\n",
    "    return force\n",
    "end\n",
    "forceprofile = collect(0:0.0001:0.71)\n",
    "r_ = @SVector [0.0, 0.0, 0.4]\n",
    "v_ = @SVector [0.0, 0.0, 0.0]\n",
    "@btime interpolate_forceprofile($forceprofile, $r_, $v_)"
   ]
  }
 ],
 "metadata": {
  "kernelspec": {
   "display_name": "Julia 1.5.2",
   "language": "julia",
   "name": "julia-1.5"
  },
  "language_info": {
   "file_extension": ".jl",
   "mimetype": "application/julia",
   "name": "julia",
   "version": "1.5.2"
  }
 },
 "nbformat": 4,
 "nbformat_minor": 2
}
